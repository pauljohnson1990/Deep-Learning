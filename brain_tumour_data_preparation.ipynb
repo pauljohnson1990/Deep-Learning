{
  "cells": [
    {
      "cell_type": "markdown",
      "metadata": {
        "id": "view-in-github",
        "colab_type": "text"
      },
      "source": [
        "<a href=\"https://colab.research.google.com/github/pauljohnson1990/Deep-Learning-Brain-Tumour-Detection/blob/main/brain_tumour_data_preparation.ipynb\" target=\"_parent\"><img src=\"https://colab.research.google.com/assets/colab-badge.svg\" alt=\"Open In Colab\"/></a>"
      ]
    },
    {
      "cell_type": "code",
      "execution_count": null,
      "id": "eda5cf70",
      "metadata": {
        "id": "eda5cf70"
      },
      "outputs": [],
      "source": [
        "import cv2\n",
        "import numpy as np\n",
        "import os\n",
        "import matplotlib.pyplot as plt\n",
        "%matplotlib inline"
      ]
    },
    {
      "cell_type": "markdown",
      "source": [
        "Go to the Kaggle website and sign in to your account.\n",
        "Click on your profile picture in the top right corner of the page and select \"Account\" from the drop-down menu.\n",
        "Scroll down to the \"API\" section and click on the \"Create New API Token\" button. This will download a file called \"kaggle.json\" to your local machine.\n",
        "Upload the \"kaggle.json\" file to your Colab notebook. You can do this in several ways, such as using the Colab file uploader or mounting Google Drive in Colab and copying the file to a directory."
      ],
      "metadata": {
        "id": "vVMtGJMDJMLY"
      },
      "id": "vVMtGJMDJMLY"
    },
    {
      "cell_type": "code",
      "source": [
        "!mkdir -p ~/.kaggle\n",
        "!cp kaggle.json ~/.kaggle/\n",
        "!chmod 600 ~/.kaggle/kaggle.json"
      ],
      "metadata": {
        "id": "iuEsb1bsGNt2"
      },
      "id": "iuEsb1bsGNt2",
      "execution_count": null,
      "outputs": []
    },
    {
      "cell_type": "code",
      "source": [
        "!kaggle datasets download -d navoneel/brain-mri-images-for-brain-tumor-detection"
      ],
      "metadata": {
        "colab": {
          "base_uri": "https://localhost:8080/"
        },
        "id": "Q2Ii3wdbDPYj",
        "outputId": "0ee0a706-89a0-4fc6-e954-b96334959232"
      },
      "id": "Q2Ii3wdbDPYj",
      "execution_count": null,
      "outputs": [
        {
          "output_type": "stream",
          "name": "stdout",
          "text": [
            "brain-mri-images-for-brain-tumor-detection.zip: Skipping, found more recently modified local copy (use --force to force download)\n"
          ]
        }
      ]
    },
    {
      "cell_type": "code",
      "source": [
        "!unzip /content/brain-mri-images-for-brain-tumor-detection.zip -d /content/"
      ],
      "metadata": {
        "colab": {
          "base_uri": "https://localhost:8080/"
        },
        "id": "zvkmzTQ9GXHk",
        "outputId": "31a70a6b-863d-46db-9f77-b2bfd5a0c1ed"
      },
      "id": "zvkmzTQ9GXHk",
      "execution_count": null,
      "outputs": [
        {
          "output_type": "stream",
          "name": "stdout",
          "text": [
            "Archive:  /content/brain-mri-images-for-brain-tumor-detection.zip\n",
            "  inflating: /content/brain_tumor_dataset/no/1 no.jpeg  \n",
            "  inflating: /content/brain_tumor_dataset/no/10 no.jpg  \n",
            "  inflating: /content/brain_tumor_dataset/no/11 no.jpg  \n",
            "  inflating: /content/brain_tumor_dataset/no/12 no.jpg  \n",
            "  inflating: /content/brain_tumor_dataset/no/13 no.jpg  \n",
            "  inflating: /content/brain_tumor_dataset/no/14 no.jpg  \n",
            "  inflating: /content/brain_tumor_dataset/no/15 no.jpg  \n",
            "  inflating: /content/brain_tumor_dataset/no/17 no.jpg  \n",
            "  inflating: /content/brain_tumor_dataset/no/18 no.jpg  \n",
            "  inflating: /content/brain_tumor_dataset/no/19 no.jpg  \n",
            "  inflating: /content/brain_tumor_dataset/no/2 no.jpeg  \n",
            "  inflating: /content/brain_tumor_dataset/no/20 no.jpg  \n",
            "  inflating: /content/brain_tumor_dataset/no/21 no.jpg  \n",
            "  inflating: /content/brain_tumor_dataset/no/22 no.jpg  \n",
            "  inflating: /content/brain_tumor_dataset/no/23 no.jpg  \n",
            "  inflating: /content/brain_tumor_dataset/no/24 no.jpg  \n",
            "  inflating: /content/brain_tumor_dataset/no/25 no.jpg  \n",
            "  inflating: /content/brain_tumor_dataset/no/26 no.jpg  \n",
            "  inflating: /content/brain_tumor_dataset/no/27 no.jpg  \n",
            "  inflating: /content/brain_tumor_dataset/no/28 no.jpg  \n",
            "  inflating: /content/brain_tumor_dataset/no/29 no.jpg  \n",
            "  inflating: /content/brain_tumor_dataset/no/3 no.jpg  \n",
            "  inflating: /content/brain_tumor_dataset/no/30 no.jpg  \n",
            "  inflating: /content/brain_tumor_dataset/no/31 no.jpg  \n",
            "  inflating: /content/brain_tumor_dataset/no/32 no.jpg  \n",
            "  inflating: /content/brain_tumor_dataset/no/33 no.jpg  \n",
            "  inflating: /content/brain_tumor_dataset/no/34 no.jpg  \n",
            "  inflating: /content/brain_tumor_dataset/no/35 no.jpg  \n",
            "  inflating: /content/brain_tumor_dataset/no/36 no.jpg  \n",
            "  inflating: /content/brain_tumor_dataset/no/37 no.jpg  \n",
            "  inflating: /content/brain_tumor_dataset/no/38 no.jpg  \n",
            "  inflating: /content/brain_tumor_dataset/no/39 no.jpg  \n",
            "  inflating: /content/brain_tumor_dataset/no/4 no.jpg  \n",
            "  inflating: /content/brain_tumor_dataset/no/40 no.jpg  \n",
            "  inflating: /content/brain_tumor_dataset/no/41 no.jpg  \n",
            "  inflating: /content/brain_tumor_dataset/no/42 no.jpg  \n",
            "  inflating: /content/brain_tumor_dataset/no/43 no.jpg  \n",
            "  inflating: /content/brain_tumor_dataset/no/44no.jpg  \n",
            "  inflating: /content/brain_tumor_dataset/no/45 no.jpg  \n",
            "  inflating: /content/brain_tumor_dataset/no/46 no.jpg  \n",
            "  inflating: /content/brain_tumor_dataset/no/47 no.jpg  \n",
            "  inflating: /content/brain_tumor_dataset/no/48 no.jpeg  \n",
            "  inflating: /content/brain_tumor_dataset/no/49 no.jpg  \n",
            "  inflating: /content/brain_tumor_dataset/no/5 no.jpg  \n",
            "  inflating: /content/brain_tumor_dataset/no/50 no.jpg  \n",
            "  inflating: /content/brain_tumor_dataset/no/6 no.jpg  \n",
            "  inflating: /content/brain_tumor_dataset/no/7 no.jpg  \n",
            "  inflating: /content/brain_tumor_dataset/no/8 no.jpg  \n",
            "  inflating: /content/brain_tumor_dataset/no/9 no.jpg  \n",
            "  inflating: /content/brain_tumor_dataset/no/N1.JPG  \n",
            "  inflating: /content/brain_tumor_dataset/no/N11.jpg  \n",
            "  inflating: /content/brain_tumor_dataset/no/N15.jpg  \n",
            "  inflating: /content/brain_tumor_dataset/no/N16.jpg  \n",
            "  inflating: /content/brain_tumor_dataset/no/N17.jpg  \n",
            "  inflating: /content/brain_tumor_dataset/no/N19.JPG  \n",
            "  inflating: /content/brain_tumor_dataset/no/N2.JPG  \n",
            "  inflating: /content/brain_tumor_dataset/no/N20.JPG  \n",
            "  inflating: /content/brain_tumor_dataset/no/N21.jpg  \n",
            "  inflating: /content/brain_tumor_dataset/no/N22.JPG  \n",
            "  inflating: /content/brain_tumor_dataset/no/N26.JPG  \n",
            "  inflating: /content/brain_tumor_dataset/no/N3.jpg  \n",
            "  inflating: /content/brain_tumor_dataset/no/N5.jpg  \n",
            "  inflating: /content/brain_tumor_dataset/no/N6.jpg  \n",
            "  inflating: /content/brain_tumor_dataset/no/No11.jpg  \n",
            "  inflating: /content/brain_tumor_dataset/no/No12.jpg  \n",
            "  inflating: /content/brain_tumor_dataset/no/No13.jpg  \n",
            "  inflating: /content/brain_tumor_dataset/no/No14.jpg  \n",
            "  inflating: /content/brain_tumor_dataset/no/No15.jpg  \n",
            "  inflating: /content/brain_tumor_dataset/no/No16.jpg  \n",
            "  inflating: /content/brain_tumor_dataset/no/No17.jpg  \n",
            "  inflating: /content/brain_tumor_dataset/no/No18.jpg  \n",
            "  inflating: /content/brain_tumor_dataset/no/No19.jpg  \n",
            "  inflating: /content/brain_tumor_dataset/no/No20.jpg  \n",
            "  inflating: /content/brain_tumor_dataset/no/No21.jpg  \n",
            "  inflating: /content/brain_tumor_dataset/no/No22.jpg  \n",
            "  inflating: /content/brain_tumor_dataset/no/no 1.jpg  \n",
            "  inflating: /content/brain_tumor_dataset/no/no 10.jpg  \n",
            "  inflating: /content/brain_tumor_dataset/no/no 100.jpg  \n",
            "  inflating: /content/brain_tumor_dataset/no/no 2.jpg  \n",
            "  inflating: /content/brain_tumor_dataset/no/no 3.jpg  \n",
            "  inflating: /content/brain_tumor_dataset/no/no 4.jpg  \n",
            "  inflating: /content/brain_tumor_dataset/no/no 5.jpeg  \n",
            "  inflating: /content/brain_tumor_dataset/no/no 6.jpg  \n",
            "  inflating: /content/brain_tumor_dataset/no/no 7.jpeg  \n",
            "  inflating: /content/brain_tumor_dataset/no/no 8.jpg  \n",
            "  inflating: /content/brain_tumor_dataset/no/no 89.jpg  \n",
            "  inflating: /content/brain_tumor_dataset/no/no 9.png  \n",
            "  inflating: /content/brain_tumor_dataset/no/no 90.jpg  \n",
            "  inflating: /content/brain_tumor_dataset/no/no 91.jpeg  \n",
            "  inflating: /content/brain_tumor_dataset/no/no 92.jpg  \n",
            "  inflating: /content/brain_tumor_dataset/no/no 923.jpg  \n",
            "  inflating: /content/brain_tumor_dataset/no/no 94.jpg  \n",
            "  inflating: /content/brain_tumor_dataset/no/no 95.jpg  \n",
            "  inflating: /content/brain_tumor_dataset/no/no 96.jpg  \n",
            "  inflating: /content/brain_tumor_dataset/no/no 97.jpg  \n",
            "  inflating: /content/brain_tumor_dataset/no/no 98.jpg  \n",
            "  inflating: /content/brain_tumor_dataset/no/no 99.jpg  \n",
            "  inflating: /content/brain_tumor_dataset/no/no.jpg  \n",
            "  inflating: /content/brain_tumor_dataset/yes/Y1.jpg  \n",
            "  inflating: /content/brain_tumor_dataset/yes/Y10.jpg  \n",
            "  inflating: /content/brain_tumor_dataset/yes/Y100.JPG  \n",
            "  inflating: /content/brain_tumor_dataset/yes/Y101.jpg  \n",
            "  inflating: /content/brain_tumor_dataset/yes/Y102.jpg  \n",
            "  inflating: /content/brain_tumor_dataset/yes/Y103.jpg  \n",
            "  inflating: /content/brain_tumor_dataset/yes/Y104.jpg  \n",
            "  inflating: /content/brain_tumor_dataset/yes/Y105.jpg  \n",
            "  inflating: /content/brain_tumor_dataset/yes/Y106.jpg  \n",
            "  inflating: /content/brain_tumor_dataset/yes/Y107.jpg  \n",
            "  inflating: /content/brain_tumor_dataset/yes/Y108.jpg  \n",
            "  inflating: /content/brain_tumor_dataset/yes/Y109.JPG  \n",
            "  inflating: /content/brain_tumor_dataset/yes/Y11.jpg  \n",
            "  inflating: /content/brain_tumor_dataset/yes/Y111.JPG  \n",
            "  inflating: /content/brain_tumor_dataset/yes/Y112.JPG  \n",
            "  inflating: /content/brain_tumor_dataset/yes/Y113.JPG  \n",
            "  inflating: /content/brain_tumor_dataset/yes/Y114.JPG  \n",
            "  inflating: /content/brain_tumor_dataset/yes/Y115.JPG  \n",
            "  inflating: /content/brain_tumor_dataset/yes/Y116.JPG  \n",
            "  inflating: /content/brain_tumor_dataset/yes/Y117.JPG  \n",
            "  inflating: /content/brain_tumor_dataset/yes/Y12.jpg  \n",
            "  inflating: /content/brain_tumor_dataset/yes/Y120.JPG  \n",
            "  inflating: /content/brain_tumor_dataset/yes/Y13.jpg  \n",
            "  inflating: /content/brain_tumor_dataset/yes/Y14.jpg  \n",
            "  inflating: /content/brain_tumor_dataset/yes/Y146.JPG  \n",
            "  inflating: /content/brain_tumor_dataset/yes/Y147.JPG  \n",
            "  inflating: /content/brain_tumor_dataset/yes/Y148.JPG  \n",
            "  inflating: /content/brain_tumor_dataset/yes/Y15.jpg  \n",
            "  inflating: /content/brain_tumor_dataset/yes/Y153.jpg  \n",
            "  inflating: /content/brain_tumor_dataset/yes/Y154.jpg  \n",
            "  inflating: /content/brain_tumor_dataset/yes/Y155.JPG  \n",
            "  inflating: /content/brain_tumor_dataset/yes/Y156.JPG  \n",
            "  inflating: /content/brain_tumor_dataset/yes/Y157.JPG  \n",
            "  inflating: /content/brain_tumor_dataset/yes/Y158.JPG  \n",
            "  inflating: /content/brain_tumor_dataset/yes/Y159.JPG  \n",
            "  inflating: /content/brain_tumor_dataset/yes/Y16.JPG  \n",
            "  inflating: /content/brain_tumor_dataset/yes/Y160.JPG  \n",
            "  inflating: /content/brain_tumor_dataset/yes/Y161.JPG  \n",
            "  inflating: /content/brain_tumor_dataset/yes/Y162.jpg  \n",
            "  inflating: /content/brain_tumor_dataset/yes/Y163.JPG  \n",
            "  inflating: /content/brain_tumor_dataset/yes/Y164.JPG  \n",
            "  inflating: /content/brain_tumor_dataset/yes/Y165.JPG  \n",
            "  inflating: /content/brain_tumor_dataset/yes/Y166.JPG  \n",
            "  inflating: /content/brain_tumor_dataset/yes/Y167.JPG  \n",
            "  inflating: /content/brain_tumor_dataset/yes/Y168.jpg  \n",
            "  inflating: /content/brain_tumor_dataset/yes/Y169.jpg  \n",
            "  inflating: /content/brain_tumor_dataset/yes/Y17.jpg  \n",
            "  inflating: /content/brain_tumor_dataset/yes/Y170.JPG  \n",
            "  inflating: /content/brain_tumor_dataset/yes/Y18.JPG  \n",
            "  inflating: /content/brain_tumor_dataset/yes/Y180.jpg  \n",
            "  inflating: /content/brain_tumor_dataset/yes/Y181.jpg  \n",
            "  inflating: /content/brain_tumor_dataset/yes/Y182.JPG  \n",
            "  inflating: /content/brain_tumor_dataset/yes/Y183.jpg  \n",
            "  inflating: /content/brain_tumor_dataset/yes/Y184.JPG  \n",
            "  inflating: /content/brain_tumor_dataset/yes/Y185.jpg  \n",
            "  inflating: /content/brain_tumor_dataset/yes/Y186.jpg  \n",
            "  inflating: /content/brain_tumor_dataset/yes/Y187.jpg  \n",
            "  inflating: /content/brain_tumor_dataset/yes/Y188.jpg  \n",
            "  inflating: /content/brain_tumor_dataset/yes/Y19.JPG  \n",
            "  inflating: /content/brain_tumor_dataset/yes/Y192.JPG  \n",
            "  inflating: /content/brain_tumor_dataset/yes/Y193.JPG  \n",
            "  inflating: /content/brain_tumor_dataset/yes/Y194.jpg  \n",
            "  inflating: /content/brain_tumor_dataset/yes/Y195.JPG  \n",
            "  inflating: /content/brain_tumor_dataset/yes/Y2.jpg  \n",
            "  inflating: /content/brain_tumor_dataset/yes/Y20.jpg  \n",
            "  inflating: /content/brain_tumor_dataset/yes/Y21.jpg  \n",
            "  inflating: /content/brain_tumor_dataset/yes/Y22.jpg  \n",
            "  inflating: /content/brain_tumor_dataset/yes/Y23.JPG  \n",
            "  inflating: /content/brain_tumor_dataset/yes/Y24.jpg  \n",
            "  inflating: /content/brain_tumor_dataset/yes/Y242.JPG  \n",
            "  inflating: /content/brain_tumor_dataset/yes/Y243.JPG  \n",
            "  inflating: /content/brain_tumor_dataset/yes/Y244.JPG  \n",
            "  inflating: /content/brain_tumor_dataset/yes/Y245.jpg  \n",
            "  inflating: /content/brain_tumor_dataset/yes/Y246.JPG  \n",
            "  inflating: /content/brain_tumor_dataset/yes/Y247.JPG  \n",
            "  inflating: /content/brain_tumor_dataset/yes/Y248.JPG  \n",
            "  inflating: /content/brain_tumor_dataset/yes/Y249.JPG  \n",
            "  inflating: /content/brain_tumor_dataset/yes/Y25.jpg  \n",
            "  inflating: /content/brain_tumor_dataset/yes/Y250.jpg  \n",
            "  inflating: /content/brain_tumor_dataset/yes/Y251.JPG  \n",
            "  inflating: /content/brain_tumor_dataset/yes/Y252.jpg  \n",
            "  inflating: /content/brain_tumor_dataset/yes/Y253.JPG  \n",
            "  inflating: /content/brain_tumor_dataset/yes/Y254.jpg  \n",
            "  inflating: /content/brain_tumor_dataset/yes/Y255.JPG  \n",
            "  inflating: /content/brain_tumor_dataset/yes/Y256.JPG  \n",
            "  inflating: /content/brain_tumor_dataset/yes/Y257.jpg  \n",
            "  inflating: /content/brain_tumor_dataset/yes/Y258.JPG  \n",
            "  inflating: /content/brain_tumor_dataset/yes/Y259.JPG  \n",
            "  inflating: /content/brain_tumor_dataset/yes/Y26.jpg  \n",
            "  inflating: /content/brain_tumor_dataset/yes/Y27.jpg  \n",
            "  inflating: /content/brain_tumor_dataset/yes/Y28.jpg  \n",
            "  inflating: /content/brain_tumor_dataset/yes/Y29.jpg  \n",
            "  inflating: /content/brain_tumor_dataset/yes/Y3.jpg  \n",
            "  inflating: /content/brain_tumor_dataset/yes/Y30.jpg  \n",
            "  inflating: /content/brain_tumor_dataset/yes/Y31.jpg  \n",
            "  inflating: /content/brain_tumor_dataset/yes/Y32.jpg  \n",
            "  inflating: /content/brain_tumor_dataset/yes/Y33.jpg  \n",
            "  inflating: /content/brain_tumor_dataset/yes/Y34.jpg  \n",
            "  inflating: /content/brain_tumor_dataset/yes/Y35.jpg  \n",
            "  inflating: /content/brain_tumor_dataset/yes/Y36.JPG  \n",
            "  inflating: /content/brain_tumor_dataset/yes/Y37.jpg  \n",
            "  inflating: /content/brain_tumor_dataset/yes/Y38.jpg  \n",
            "  inflating: /content/brain_tumor_dataset/yes/Y39.jpg  \n",
            "  inflating: /content/brain_tumor_dataset/yes/Y4.jpg  \n",
            "  inflating: /content/brain_tumor_dataset/yes/Y40.JPG  \n",
            "  inflating: /content/brain_tumor_dataset/yes/Y41.jpg  \n",
            "  inflating: /content/brain_tumor_dataset/yes/Y42.jpg  \n",
            "  inflating: /content/brain_tumor_dataset/yes/Y44.JPG  \n",
            "  inflating: /content/brain_tumor_dataset/yes/Y45.JPG  \n",
            "  inflating: /content/brain_tumor_dataset/yes/Y46.jpg  \n",
            "  inflating: /content/brain_tumor_dataset/yes/Y47.JPG  \n",
            "  inflating: /content/brain_tumor_dataset/yes/Y49.JPG  \n",
            "  inflating: /content/brain_tumor_dataset/yes/Y50.JPG  \n",
            "  inflating: /content/brain_tumor_dataset/yes/Y51.jpg  \n",
            "  inflating: /content/brain_tumor_dataset/yes/Y52.jpg  \n",
            "  inflating: /content/brain_tumor_dataset/yes/Y53.jpg  \n",
            "  inflating: /content/brain_tumor_dataset/yes/Y54.jpg  \n",
            "  inflating: /content/brain_tumor_dataset/yes/Y55.jpg  \n",
            "  inflating: /content/brain_tumor_dataset/yes/Y56.jpg  \n",
            "  inflating: /content/brain_tumor_dataset/yes/Y58.JPG  \n",
            "  inflating: /content/brain_tumor_dataset/yes/Y59.JPG  \n",
            "  inflating: /content/brain_tumor_dataset/yes/Y6.jpg  \n",
            "  inflating: /content/brain_tumor_dataset/yes/Y60.jpg  \n",
            "  inflating: /content/brain_tumor_dataset/yes/Y61.jpg  \n",
            "  inflating: /content/brain_tumor_dataset/yes/Y62.jpg  \n",
            "  inflating: /content/brain_tumor_dataset/yes/Y65.JPG  \n",
            "  inflating: /content/brain_tumor_dataset/yes/Y66.JPG  \n",
            "  inflating: /content/brain_tumor_dataset/yes/Y67.JPG  \n",
            "  inflating: /content/brain_tumor_dataset/yes/Y69.jpg  \n",
            "  inflating: /content/brain_tumor_dataset/yes/Y7.jpg  \n",
            "  inflating: /content/brain_tumor_dataset/yes/Y70.jpg  \n",
            "  inflating: /content/brain_tumor_dataset/yes/Y71.JPG  \n",
            "  inflating: /content/brain_tumor_dataset/yes/Y73.jpg  \n",
            "  inflating: /content/brain_tumor_dataset/yes/Y74.jpg  \n",
            "  inflating: /content/brain_tumor_dataset/yes/Y75.JPG  \n",
            "  inflating: /content/brain_tumor_dataset/yes/Y76.jpg  \n",
            "  inflating: /content/brain_tumor_dataset/yes/Y77.jpg  \n",
            "  inflating: /content/brain_tumor_dataset/yes/Y78.jpg  \n",
            "  inflating: /content/brain_tumor_dataset/yes/Y79.jpg  \n",
            "  inflating: /content/brain_tumor_dataset/yes/Y8.jpg  \n",
            "  inflating: /content/brain_tumor_dataset/yes/Y81.jpg  \n",
            "  inflating: /content/brain_tumor_dataset/yes/Y82.jpg  \n",
            "  inflating: /content/brain_tumor_dataset/yes/Y85.JPG  \n",
            "  inflating: /content/brain_tumor_dataset/yes/Y86.JPG  \n",
            "  inflating: /content/brain_tumor_dataset/yes/Y89.JPG  \n",
            "  inflating: /content/brain_tumor_dataset/yes/Y9.jpg  \n",
            "  inflating: /content/brain_tumor_dataset/yes/Y90.jpg  \n",
            "  inflating: /content/brain_tumor_dataset/yes/Y91.jpg  \n",
            "  inflating: /content/brain_tumor_dataset/yes/Y92.jpg  \n",
            "  inflating: /content/brain_tumor_dataset/yes/Y92.png  \n",
            "  inflating: /content/brain_tumor_dataset/yes/Y95.jpg  \n",
            "  inflating: /content/brain_tumor_dataset/yes/Y96.jpg  \n",
            "  inflating: /content/brain_tumor_dataset/yes/Y97.JPG  \n",
            "  inflating: /content/brain_tumor_dataset/yes/Y98.JPG  \n",
            "  inflating: /content/brain_tumor_dataset/yes/Y99.JPG  \n",
            "  inflating: /content/no/1 no.jpeg   \n",
            "  inflating: /content/no/10 no.jpg   \n",
            "  inflating: /content/no/11 no.jpg   \n",
            "  inflating: /content/no/12 no.jpg   \n",
            "  inflating: /content/no/13 no.jpg   \n",
            "  inflating: /content/no/14 no.jpg   \n",
            "  inflating: /content/no/15 no.jpg   \n",
            "  inflating: /content/no/17 no.jpg   \n",
            "  inflating: /content/no/18 no.jpg   \n",
            "  inflating: /content/no/19 no.jpg   \n",
            "  inflating: /content/no/2 no.jpeg   \n",
            "  inflating: /content/no/20 no.jpg   \n",
            "  inflating: /content/no/21 no.jpg   \n",
            "  inflating: /content/no/22 no.jpg   \n",
            "  inflating: /content/no/23 no.jpg   \n",
            "  inflating: /content/no/24 no.jpg   \n",
            "  inflating: /content/no/25 no.jpg   \n",
            "  inflating: /content/no/26 no.jpg   \n",
            "  inflating: /content/no/27 no.jpg   \n",
            "  inflating: /content/no/28 no.jpg   \n",
            "  inflating: /content/no/29 no.jpg   \n",
            "  inflating: /content/no/3 no.jpg    \n",
            "  inflating: /content/no/30 no.jpg   \n",
            "  inflating: /content/no/31 no.jpg   \n",
            "  inflating: /content/no/32 no.jpg   \n",
            "  inflating: /content/no/33 no.jpg   \n",
            "  inflating: /content/no/34 no.jpg   \n",
            "  inflating: /content/no/35 no.jpg   \n",
            "  inflating: /content/no/36 no.jpg   \n",
            "  inflating: /content/no/37 no.jpg   \n",
            "  inflating: /content/no/38 no.jpg   \n",
            "  inflating: /content/no/39 no.jpg   \n",
            "  inflating: /content/no/4 no.jpg    \n",
            "  inflating: /content/no/40 no.jpg   \n",
            "  inflating: /content/no/41 no.jpg   \n",
            "  inflating: /content/no/42 no.jpg   \n",
            "  inflating: /content/no/43 no.jpg   \n",
            "  inflating: /content/no/44no.jpg    \n",
            "  inflating: /content/no/45 no.jpg   \n",
            "  inflating: /content/no/46 no.jpg   \n",
            "  inflating: /content/no/47 no.jpg   \n",
            "  inflating: /content/no/48 no.jpeg  \n",
            "  inflating: /content/no/49 no.jpg   \n",
            "  inflating: /content/no/5 no.jpg    \n",
            "  inflating: /content/no/50 no.jpg   \n",
            "  inflating: /content/no/6 no.jpg    \n",
            "  inflating: /content/no/7 no.jpg    \n",
            "  inflating: /content/no/8 no.jpg    \n",
            "  inflating: /content/no/9 no.jpg    \n",
            "  inflating: /content/no/N1.JPG      \n",
            "  inflating: /content/no/N11.jpg     \n",
            "  inflating: /content/no/N15.jpg     \n",
            "  inflating: /content/no/N16.jpg     \n",
            "  inflating: /content/no/N17.jpg     \n",
            "  inflating: /content/no/N19.JPG     \n",
            "  inflating: /content/no/N2.JPG      \n",
            "  inflating: /content/no/N20.JPG     \n",
            "  inflating: /content/no/N21.jpg     \n",
            "  inflating: /content/no/N22.JPG     \n",
            "  inflating: /content/no/N26.JPG     \n",
            "  inflating: /content/no/N3.jpg      \n",
            "  inflating: /content/no/N5.jpg      \n",
            "  inflating: /content/no/N6.jpg      \n",
            "  inflating: /content/no/No11.jpg    \n",
            "  inflating: /content/no/No12.jpg    \n",
            "  inflating: /content/no/No13.jpg    \n",
            "  inflating: /content/no/No14.jpg    \n",
            "  inflating: /content/no/No15.jpg    \n",
            "  inflating: /content/no/No16.jpg    \n",
            "  inflating: /content/no/No17.jpg    \n",
            "  inflating: /content/no/No18.jpg    \n",
            "  inflating: /content/no/No19.jpg    \n",
            "  inflating: /content/no/No20.jpg    \n",
            "  inflating: /content/no/No21.jpg    \n",
            "  inflating: /content/no/No22.jpg    \n",
            "  inflating: /content/no/no 1.jpg    \n",
            "  inflating: /content/no/no 10.jpg   \n",
            "  inflating: /content/no/no 100.jpg  \n",
            "  inflating: /content/no/no 2.jpg    \n",
            "  inflating: /content/no/no 3.jpg    \n",
            "  inflating: /content/no/no 4.jpg    \n",
            "  inflating: /content/no/no 5.jpeg   \n",
            "  inflating: /content/no/no 6.jpg    \n",
            "  inflating: /content/no/no 7.jpeg   \n",
            "  inflating: /content/no/no 8.jpg    \n",
            "  inflating: /content/no/no 89.jpg   \n",
            "  inflating: /content/no/no 9.png    \n",
            "  inflating: /content/no/no 90.jpg   \n",
            "  inflating: /content/no/no 91.jpeg  \n",
            "  inflating: /content/no/no 92.jpg   \n",
            "  inflating: /content/no/no 923.jpg  \n",
            "  inflating: /content/no/no 94.jpg   \n",
            "  inflating: /content/no/no 95.jpg   \n",
            "  inflating: /content/no/no 96.jpg   \n",
            "  inflating: /content/no/no 97.jpg   \n",
            "  inflating: /content/no/no 98.jpg   \n",
            "  inflating: /content/no/no 99.jpg   \n",
            "  inflating: /content/no/no.jpg      \n",
            "  inflating: /content/yes/Y1.jpg     \n",
            "  inflating: /content/yes/Y10.jpg    \n",
            "  inflating: /content/yes/Y100.JPG   \n",
            "  inflating: /content/yes/Y101.jpg   \n",
            "  inflating: /content/yes/Y102.jpg   \n",
            "  inflating: /content/yes/Y103.jpg   \n",
            "  inflating: /content/yes/Y104.jpg   \n",
            "  inflating: /content/yes/Y105.jpg   \n",
            "  inflating: /content/yes/Y106.jpg   \n",
            "  inflating: /content/yes/Y107.jpg   \n",
            "  inflating: /content/yes/Y108.jpg   \n",
            "  inflating: /content/yes/Y109.JPG   \n",
            "  inflating: /content/yes/Y11.jpg    \n",
            "  inflating: /content/yes/Y111.JPG   \n",
            "  inflating: /content/yes/Y112.JPG   \n",
            "  inflating: /content/yes/Y113.JPG   \n",
            "  inflating: /content/yes/Y114.JPG   \n",
            "  inflating: /content/yes/Y115.JPG   \n",
            "  inflating: /content/yes/Y116.JPG   \n",
            "  inflating: /content/yes/Y117.JPG   \n",
            "  inflating: /content/yes/Y12.jpg    \n",
            "  inflating: /content/yes/Y120.JPG   \n",
            "  inflating: /content/yes/Y13.jpg    \n",
            "  inflating: /content/yes/Y14.jpg    \n",
            "  inflating: /content/yes/Y146.JPG   \n",
            "  inflating: /content/yes/Y147.JPG   \n",
            "  inflating: /content/yes/Y148.JPG   \n",
            "  inflating: /content/yes/Y15.jpg    \n",
            "  inflating: /content/yes/Y153.jpg   \n",
            "  inflating: /content/yes/Y154.jpg   \n",
            "  inflating: /content/yes/Y155.JPG   \n",
            "  inflating: /content/yes/Y156.JPG   \n",
            "  inflating: /content/yes/Y157.JPG   \n",
            "  inflating: /content/yes/Y158.JPG   \n",
            "  inflating: /content/yes/Y159.JPG   \n",
            "  inflating: /content/yes/Y16.JPG    \n",
            "  inflating: /content/yes/Y160.JPG   \n",
            "  inflating: /content/yes/Y161.JPG   \n",
            "  inflating: /content/yes/Y162.jpg   \n",
            "  inflating: /content/yes/Y163.JPG   \n",
            "  inflating: /content/yes/Y164.JPG   \n",
            "  inflating: /content/yes/Y165.JPG   \n",
            "  inflating: /content/yes/Y166.JPG   \n",
            "  inflating: /content/yes/Y167.JPG   \n",
            "  inflating: /content/yes/Y168.jpg   \n",
            "  inflating: /content/yes/Y169.jpg   \n",
            "  inflating: /content/yes/Y17.jpg    \n",
            "  inflating: /content/yes/Y170.JPG   \n",
            "  inflating: /content/yes/Y18.JPG    \n",
            "  inflating: /content/yes/Y180.jpg   \n",
            "  inflating: /content/yes/Y181.jpg   \n",
            "  inflating: /content/yes/Y182.JPG   \n",
            "  inflating: /content/yes/Y183.jpg   \n",
            "  inflating: /content/yes/Y184.JPG   \n",
            "  inflating: /content/yes/Y185.jpg   \n",
            "  inflating: /content/yes/Y186.jpg   \n",
            "  inflating: /content/yes/Y187.jpg   \n",
            "  inflating: /content/yes/Y188.jpg   \n",
            "  inflating: /content/yes/Y19.JPG    \n",
            "  inflating: /content/yes/Y192.JPG   \n",
            "  inflating: /content/yes/Y193.JPG   \n",
            "  inflating: /content/yes/Y194.jpg   \n",
            "  inflating: /content/yes/Y195.JPG   \n",
            "  inflating: /content/yes/Y2.jpg     \n",
            "  inflating: /content/yes/Y20.jpg    \n",
            "  inflating: /content/yes/Y21.jpg    \n",
            "  inflating: /content/yes/Y22.jpg    \n",
            "  inflating: /content/yes/Y23.JPG    \n",
            "  inflating: /content/yes/Y24.jpg    \n",
            "  inflating: /content/yes/Y242.JPG   \n",
            "  inflating: /content/yes/Y243.JPG   \n",
            "  inflating: /content/yes/Y244.JPG   \n",
            "  inflating: /content/yes/Y245.jpg   \n",
            "  inflating: /content/yes/Y246.JPG   \n",
            "  inflating: /content/yes/Y247.JPG   \n",
            "  inflating: /content/yes/Y248.JPG   \n",
            "  inflating: /content/yes/Y249.JPG   \n",
            "  inflating: /content/yes/Y25.jpg    \n",
            "  inflating: /content/yes/Y250.jpg   \n",
            "  inflating: /content/yes/Y251.JPG   \n",
            "  inflating: /content/yes/Y252.jpg   \n",
            "  inflating: /content/yes/Y253.JPG   \n",
            "  inflating: /content/yes/Y254.jpg   \n",
            "  inflating: /content/yes/Y255.JPG   \n",
            "  inflating: /content/yes/Y256.JPG   \n",
            "  inflating: /content/yes/Y257.jpg   \n",
            "  inflating: /content/yes/Y258.JPG   \n",
            "  inflating: /content/yes/Y259.JPG   \n",
            "  inflating: /content/yes/Y26.jpg    \n",
            "  inflating: /content/yes/Y27.jpg    \n",
            "  inflating: /content/yes/Y28.jpg    \n",
            "  inflating: /content/yes/Y29.jpg    \n",
            "  inflating: /content/yes/Y3.jpg     \n",
            "  inflating: /content/yes/Y30.jpg    \n",
            "  inflating: /content/yes/Y31.jpg    \n",
            "  inflating: /content/yes/Y32.jpg    \n",
            "  inflating: /content/yes/Y33.jpg    \n",
            "  inflating: /content/yes/Y34.jpg    \n",
            "  inflating: /content/yes/Y35.jpg    \n",
            "  inflating: /content/yes/Y36.JPG    \n",
            "  inflating: /content/yes/Y37.jpg    \n",
            "  inflating: /content/yes/Y38.jpg    \n",
            "  inflating: /content/yes/Y39.jpg    \n",
            "  inflating: /content/yes/Y4.jpg     \n",
            "  inflating: /content/yes/Y40.JPG    \n",
            "  inflating: /content/yes/Y41.jpg    \n",
            "  inflating: /content/yes/Y42.jpg    \n",
            "  inflating: /content/yes/Y44.JPG    \n",
            "  inflating: /content/yes/Y45.JPG    \n",
            "  inflating: /content/yes/Y46.jpg    \n",
            "  inflating: /content/yes/Y47.JPG    \n",
            "  inflating: /content/yes/Y49.JPG    \n",
            "  inflating: /content/yes/Y50.JPG    \n",
            "  inflating: /content/yes/Y51.jpg    \n",
            "  inflating: /content/yes/Y52.jpg    \n",
            "  inflating: /content/yes/Y53.jpg    \n",
            "  inflating: /content/yes/Y54.jpg    \n",
            "  inflating: /content/yes/Y55.jpg    \n",
            "  inflating: /content/yes/Y56.jpg    \n",
            "  inflating: /content/yes/Y58.JPG    \n",
            "  inflating: /content/yes/Y59.JPG    \n",
            "  inflating: /content/yes/Y6.jpg     \n",
            "  inflating: /content/yes/Y60.jpg    \n",
            "  inflating: /content/yes/Y61.jpg    \n",
            "  inflating: /content/yes/Y62.jpg    \n",
            "  inflating: /content/yes/Y65.JPG    \n",
            "  inflating: /content/yes/Y66.JPG    \n",
            "  inflating: /content/yes/Y67.JPG    \n",
            "  inflating: /content/yes/Y69.jpg    \n",
            "  inflating: /content/yes/Y7.jpg     \n",
            "  inflating: /content/yes/Y70.jpg    \n",
            "  inflating: /content/yes/Y71.JPG    \n",
            "  inflating: /content/yes/Y73.jpg    \n",
            "  inflating: /content/yes/Y74.jpg    \n",
            "  inflating: /content/yes/Y75.JPG    \n",
            "  inflating: /content/yes/Y76.jpg    \n",
            "  inflating: /content/yes/Y77.jpg    \n",
            "  inflating: /content/yes/Y78.jpg    \n",
            "  inflating: /content/yes/Y79.jpg    \n",
            "  inflating: /content/yes/Y8.jpg     \n",
            "  inflating: /content/yes/Y81.jpg    \n",
            "  inflating: /content/yes/Y82.jpg    \n",
            "  inflating: /content/yes/Y85.JPG    \n",
            "  inflating: /content/yes/Y86.JPG    \n",
            "  inflating: /content/yes/Y89.JPG    \n",
            "  inflating: /content/yes/Y9.jpg     \n",
            "  inflating: /content/yes/Y90.jpg    \n",
            "  inflating: /content/yes/Y91.jpg    \n",
            "  inflating: /content/yes/Y92.jpg    \n",
            "  inflating: /content/yes/Y92.png    \n",
            "  inflating: /content/yes/Y95.jpg    \n",
            "  inflating: /content/yes/Y96.jpg    \n",
            "  inflating: /content/yes/Y97.JPG    \n",
            "  inflating: /content/yes/Y98.JPG    \n",
            "  inflating: /content/yes/Y99.JPG    \n"
          ]
        }
      ]
    },
    {
      "cell_type": "code",
      "source": [
        "!rm -r /content/yes\n",
        "!rm -r /content/no"
      ],
      "metadata": {
        "id": "YwKn0vzyI8nc"
      },
      "id": "YwKn0vzyI8nc",
      "execution_count": null,
      "outputs": []
    },
    {
      "cell_type": "code",
      "execution_count": null,
      "id": "e5672059",
      "metadata": {
        "id": "e5672059"
      },
      "outputs": [],
      "source": [
        "data_path='/content/brain_tumor_dataset'"
      ]
    },
    {
      "cell_type": "code",
      "execution_count": null,
      "id": "0284bdc3",
      "metadata": {
        "id": "0284bdc3",
        "outputId": "f240a174-f10e-4eaa-8edb-408a2dd8a512",
        "colab": {
          "base_uri": "https://localhost:8080/"
        }
      },
      "outputs": [
        {
          "output_type": "execute_result",
          "data": {
            "text/plain": [
              "['no', 'yes']"
            ]
          },
          "metadata": {},
          "execution_count": 22
        }
      ],
      "source": [
        "categories=os.listdir(data_path)\n",
        "categories"
      ]
    },
    {
      "cell_type": "code",
      "execution_count": null,
      "id": "bdbfd875",
      "metadata": {
        "id": "bdbfd875"
      },
      "outputs": [],
      "source": [
        "labels=np.array([0,1])"
      ]
    },
    {
      "cell_type": "code",
      "execution_count": null,
      "id": "3eeddd1f",
      "metadata": {
        "id": "3eeddd1f"
      },
      "outputs": [],
      "source": [
        "labels_dict=dict(zip(categories,labels))"
      ]
    },
    {
      "cell_type": "code",
      "execution_count": null,
      "id": "2c41ca25",
      "metadata": {
        "id": "2c41ca25",
        "outputId": "3dcd3e3c-a933-4c13-dd00-77601979a936"
      },
      "outputs": [
        {
          "data": {
            "text/plain": [
              "{'no': 0, 'yes': 1}"
            ]
          },
          "execution_count": 6,
          "metadata": {},
          "output_type": "execute_result"
        }
      ],
      "source": [
        "labels_dict"
      ]
    },
    {
      "cell_type": "code",
      "execution_count": null,
      "id": "b0692ecf",
      "metadata": {
        "id": "b0692ecf"
      },
      "outputs": [],
      "source": [
        "img_size=100\n",
        "data = []\n",
        "target = []\n",
        "for category in categories:\n",
        "    folder_path = os.path.join(data_path, category)\n",
        "    sample_names=os.listdir(folder_path)\n",
        "    for sample_name in sample_names:\n",
        "        img_path=os.path.join(folder_path,sample_name)\n",
        "        img=cv2.imread(img_path)\n",
        "        try:\n",
        "            gray_img = cv2.cvtColor(img,cv2.COLOR_BGR2GRAY) # gray image conversion\n",
        "            resized = cv2.resize(gray_img,(img_size,img_size)) # resize every image to uniform size\n",
        "            data.append(resized)\n",
        "            target.append(labels_dict[category])\n",
        "        except Exception as e:\n",
        "            print(\"Exception\",e)     "
      ]
    },
    {
      "cell_type": "code",
      "execution_count": null,
      "id": "beac3e27",
      "metadata": {
        "id": "beac3e27",
        "outputId": "ef4c6ec2-a0c5-4c2d-9319-3651e1c093b0",
        "colab": {
          "base_uri": "https://localhost:8080/",
          "height": 197
        }
      },
      "outputs": [
        {
          "output_type": "stream",
          "name": "stdout",
          "text": [
            "no\n",
            "no\n",
            "no\n",
            "no\n"
          ]
        },
        {
          "output_type": "display_data",
          "data": {
            "text/plain": [
              "<Figure size 432x288 with 4 Axes>"
            ],
            "image/png": "[encoded data removed]"
          },
          "metadata": {
            "needs_background": "light"
          }
        }
      ],
      "source": [
        "plt.figure()\n",
        "for i in range(4):\n",
        "    plt.subplot(1,4,i+1)\n",
        "    plt.imshow(data[i],cmap='gray')\n",
        "    print(categories[target[i]])\n",
        "plt.show()"
      ]
    },
    {
      "cell_type": "code",
      "execution_count": null,
      "id": "e873149b",
      "metadata": {
        "id": "e873149b"
      },
      "outputs": [],
      "source": [
        "data = np.array(data)/255 # Scaling\n",
        "data = np.reshape(data,(data.shape[0],img_size,img_size,1))\n",
        "target = np.array(target)"
      ]
    },
    {
      "cell_type": "code",
      "execution_count": null,
      "id": "2ff6fa46",
      "metadata": {
        "id": "2ff6fa46",
        "outputId": "1f547887-4aae-4a37-c980-ca5a5985a95b",
        "colab": {
          "base_uri": "https://localhost:8080/"
        }
      },
      "outputs": [
        {
          "output_type": "execute_result",
          "data": {
            "text/plain": [
              "(253, 100, 100, 1)"
            ]
          },
          "metadata": {},
          "execution_count": 28
        }
      ],
      "source": [
        "data.shape"
      ]
    },
    {
      "cell_type": "code",
      "execution_count": null,
      "id": "352a48fc",
      "metadata": {
        "id": "352a48fc",
        "outputId": "6f1be44d-c652-47ef-e599-430f670422dd",
        "colab": {
          "base_uri": "https://localhost:8080/"
        }
      },
      "outputs": [
        {
          "output_type": "execute_result",
          "data": {
            "text/plain": [
              "(253,)"
            ]
          },
          "metadata": {},
          "execution_count": 29
        }
      ],
      "source": [
        "target.shape"
      ]
    },
    {
      "cell_type": "code",
      "execution_count": null,
      "id": "17785afe",
      "metadata": {
        "id": "17785afe"
      },
      "outputs": [],
      "source": [
        "from keras.utils import np_utils\n",
        "new_target = np_utils.to_categorical(target)"
      ]
    },
    {
      "cell_type": "code",
      "source": [
        "from google.colab import drive\n",
        "drive.mount('/content/drive')"
      ],
      "metadata": {
        "id": "ArboZ84YKoeg"
      },
      "id": "ArboZ84YKoeg",
      "execution_count": null,
      "outputs": []
    },
    {
      "cell_type": "code",
      "execution_count": null,
      "id": "6d9c035c",
      "metadata": {
        "id": "6d9c035c"
      },
      "outputs": [],
      "source": [
        "np.save('/content/drive/MyDrive/Data Science Projects/Brain_tumour_detection/data',data)\n",
        "np.save('/content/drive/MyDrive/Data Science Projects/Brain_tumour_detection/target',new_target)"
      ]
    }
  ],
  "metadata": {
    "kernelspec": {
      "display_name": "Python 3 (ipykernel)",
      "language": "python",
      "name": "python3"
    },
    "language_info": {
      "codemirror_mode": {
        "name": "ipython",
        "version": 3
      },
      "file_extension": ".py",
      "mimetype": "text/x-python",
      "name": "python",
      "nbconvert_exporter": "python",
      "pygments_lexer": "ipython3",
      "version": "3.10.4"
    },
    "colab": {
      "provenance": [],
      "include_colab_link": true
    }
  },
  "nbformat": 4,
  "nbformat_minor": 5
}