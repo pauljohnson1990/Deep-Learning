{
  "cells": [
    {
      "cell_type": "markdown",
      "metadata": {
        "id": "view-in-github",
        "colab_type": "text"
      },
      "source": [
        "<a href=\"https://colab.research.google.com/github/pauljohnson1990/Deep-Learning-Brain-Tumour-Detection/blob/main/Project_brain_tumour_prediction.ipynb\" target=\"_parent\"><img src=\"https://colab.research.google.com/assets/colab-badge.svg\" alt=\"Open In Colab\"/></a>"
      ]
    },
    {
      "cell_type": "code",
      "execution_count": null,
      "id": "4b46d01b",
      "metadata": {
        "id": "4b46d01b"
      },
      "outputs": [],
      "source": [
        "  import numpy as np"
      ]
    },
    {
      "cell_type": "code",
      "source": [
        "from google.colab import drive\n",
        "drive.mount('/content/drive')"
      ],
      "metadata": {
        "colab": {
          "base_uri": "https://localhost:8080/"
        },
        "id": "QE0Lcg6ALuj3",
        "outputId": "662149e6-7f5b-4f95-92ea-4c73328d39dd"
      },
      "id": "QE0Lcg6ALuj3",
      "execution_count": null,
      "outputs": [
        {
          "output_type": "stream",
          "name": "stdout",
          "text": [
            "Mounted at /content/drive\n"
          ]
        }
      ]
    },
    {
      "cell_type": "markdown",
      "id": "b7097960",
      "metadata": {
        "id": "b7097960"
      },
      "source": [
        "#### data: https://www.kaggle.com/datasets/navoneel/brain-mri-images-for-brain-tumor-detection/download?datasetVersionNumber=1\n"
      ]
    },
    {
      "cell_type": "code",
      "execution_count": null,
      "id": "87952554",
      "metadata": {
        "id": "87952554"
      },
      "outputs": [],
      "source": [
        "data=np.load('/content/drive/MyDrive/Data Science Projects/Brain_tumour_detection/data.npy')\n",
        "target= np.load('/content/drive/MyDrive/Data Science Projects/Brain_tumour_detection/target.npy')"
      ]
    },
    {
      "cell_type": "code",
      "execution_count": null,
      "id": "7fa57760",
      "metadata": {
        "id": "7fa57760"
      },
      "outputs": [],
      "source": [
        "from sklearn.model_selection import train_test_split\n",
        "x_train,x_test,y_train,y_test=train_test_split(data,target,test_size = 0.2)"
      ]
    },
    {
      "cell_type": "code",
      "execution_count": null,
      "id": "29382c84",
      "metadata": {
        "id": "29382c84"
      },
      "outputs": [],
      "source": [
        "from keras.models import Sequential\n",
        "from keras.layers import Dense, Activation, Flatten,Dropout\n",
        "from keras.layers import Conv2D,MaxPooling2D"
      ]
    },
    {
      "cell_type": "code",
      "execution_count": null,
      "id": "50b43691",
      "metadata": {
        "id": "50b43691"
      },
      "outputs": [],
      "source": [
        "model=Sequential()\n",
        "\n",
        "#convolution layer 1\n",
        "model.add(Conv2D(200,(3,3),input_shape= data.shape[1:]))\n",
        "model.add(Activation('relu'))\n",
        "model.add(MaxPooling2D(pool_size=(2,2)))\n",
        "\n",
        "#convolution layer 2\n",
        "model.add(Conv2D(100,(3,3)))\n",
        "model.add(Activation('relu'))\n",
        "model.add(MaxPooling2D(pool_size=(2,2)))\n",
        "\n",
        "model.add(Flatten())\n",
        "model.add(Dropout(0.5))\n",
        "\n",
        "model.add(Dense(64,activation='relu'))\n",
        "model.add(Dense(2,activation='softmax'))\n",
        "\n",
        "model.compile(optimizer='adam',loss='categorical_crossentropy',metrics=['accuracy'])"
      ]
    },
    {
      "cell_type": "code",
      "execution_count": null,
      "id": "4c33c718",
      "metadata": {
        "id": "4c33c718",
        "outputId": "5f20347a-d180-4436-c55b-2f03abf2f240"
      },
      "outputs": [
        {
          "name": "stdout",
          "output_type": "stream",
          "text": [
            "Model: \"sequential\"\n",
            "_________________________________________________________________\n",
            " Layer (type)                Output Shape              Param #   \n",
            "=================================================================\n",
            " conv2d (Conv2D)             (None, 98, 98, 200)       2000      \n",
            "                                                                 \n",
            " activation (Activation)     (None, 98, 98, 200)       0         \n",
            "                                                                 \n",
            " max_pooling2d (MaxPooling2D  (None, 49, 49, 200)      0         \n",
            " )                                                               \n",
            "                                                                 \n",
            " conv2d_1 (Conv2D)           (None, 47, 47, 100)       180100    \n",
            "                                                                 \n",
            " activation_1 (Activation)   (None, 47, 47, 100)       0         \n",
            "                                                                 \n",
            " max_pooling2d_1 (MaxPooling  (None, 23, 23, 100)      0         \n",
            " 2D)                                                             \n",
            "                                                                 \n",
            " flatten (Flatten)           (None, 52900)             0         \n",
            "                                                                 \n",
            " dropout (Dropout)           (None, 52900)             0         \n",
            "                                                                 \n",
            " dense (Dense)               (None, 64)                3385664   \n",
            "                                                                 \n",
            " dense_1 (Dense)             (None, 2)                 130       \n",
            "                                                                 \n",
            "=================================================================\n",
            "Total params: 3,567,894\n",
            "Trainable params: 3,567,894\n",
            "Non-trainable params: 0\n",
            "_________________________________________________________________\n"
          ]
        }
      ],
      "source": [
        "model.summary()"
      ]
    },
    {
      "cell_type": "code",
      "execution_count": null,
      "id": "e2b53e9e",
      "metadata": {
        "scrolled": false,
        "id": "e2b53e9e",
        "outputId": "30368e1e-37dc-45b7-be38-805d01e312eb"
      },
      "outputs": [
        {
          "name": "stdout",
          "output_type": "stream",
          "text": [
            "Epoch 1/20\n",
            "6/6 [==============================] - ETA: 0s - loss: 0.7433 - accuracy: 0.5776"
          ]
        },
        {
          "name": "stderr",
          "output_type": "stream",
          "text": [
            "WARNING:absl:Found untraced functions such as _jit_compiled_convolution_op, _jit_compiled_convolution_op, _update_step_xla while saving (showing 3 of 3). These functions will not be directly callable after loading.\n"
          ]
        },
        {
          "name": "stdout",
          "output_type": "stream",
          "text": [
            "INFO:tensorflow:Assets written to: model-001.model\\assets\n"
          ]
        },
        {
          "name": "stderr",
          "output_type": "stream",
          "text": [
            "INFO:tensorflow:Assets written to: model-001.model\\assets\n"
          ]
        },
        {
          "name": "stdout",
          "output_type": "stream",
          "text": [
            "6/6 [==============================] - 10s 2s/step - loss: 0.7433 - accuracy: 0.5776 - val_loss: 0.6080 - val_accuracy: 0.6829\n",
            "Epoch 2/20\n",
            "6/6 [==============================] - 7s 1s/step - loss: 0.5944 - accuracy: 0.6646 - val_loss: 0.6479 - val_accuracy: 0.6829\n",
            "Epoch 3/20\n",
            "6/6 [==============================] - 6s 986ms/step - loss: 0.5128 - accuracy: 0.7764 - val_loss: 0.6455 - val_accuracy: 0.7073\n",
            "Epoch 4/20\n",
            "6/6 [==============================] - 6s 990ms/step - loss: 0.4478 - accuracy: 0.7640 - val_loss: 0.6199 - val_accuracy: 0.7561\n",
            "Epoch 5/20\n",
            "6/6 [==============================] - 6s 984ms/step - loss: 0.3789 - accuracy: 0.8199 - val_loss: 0.7052 - val_accuracy: 0.6341\n",
            "Epoch 6/20\n",
            "6/6 [==============================] - 6s 1s/step - loss: 0.4041 - accuracy: 0.8075 - val_loss: 0.6535 - val_accuracy: 0.7805\n",
            "Epoch 7/20\n",
            "6/6 [==============================] - 6s 979ms/step - loss: 0.3023 - accuracy: 0.8634 - val_loss: 0.6653 - val_accuracy: 0.7805\n",
            "Epoch 8/20\n",
            "6/6 [==============================] - 6s 997ms/step - loss: 0.3453 - accuracy: 0.8323 - val_loss: 0.6173 - val_accuracy: 0.7317\n",
            "Epoch 9/20\n",
            "6/6 [==============================] - 6s 993ms/step - loss: 0.2850 - accuracy: 0.8758 - val_loss: 0.7121 - val_accuracy: 0.7561\n",
            "Epoch 10/20\n",
            "6/6 [==============================] - 6s 983ms/step - loss: 0.2227 - accuracy: 0.9255 - val_loss: 0.7649 - val_accuracy: 0.7317\n",
            "Epoch 11/20\n",
            "6/6 [==============================] - 6s 1s/step - loss: 0.1549 - accuracy: 0.9441 - val_loss: 0.8243 - val_accuracy: 0.7317\n",
            "Epoch 12/20\n",
            "6/6 [==============================] - 6s 984ms/step - loss: 0.1658 - accuracy: 0.9627 - val_loss: 0.7677 - val_accuracy: 0.7561\n",
            "Epoch 13/20\n",
            "6/6 [==============================] - 6s 984ms/step - loss: 0.2468 - accuracy: 0.8571 - val_loss: 0.7238 - val_accuracy: 0.7317\n",
            "Epoch 14/20\n",
            "6/6 [==============================] - 6s 999ms/step - loss: 0.1325 - accuracy: 0.9876 - val_loss: 0.8936 - val_accuracy: 0.7805\n",
            "Epoch 15/20\n",
            "6/6 [==============================] - 6s 1s/step - loss: 0.0959 - accuracy: 0.9627 - val_loss: 1.1582 - val_accuracy: 0.7073\n",
            "Epoch 16/20\n",
            "6/6 [==============================] - 6s 1s/step - loss: 0.0413 - accuracy: 0.9814 - val_loss: 1.4807 - val_accuracy: 0.7561\n",
            "Epoch 17/20\n",
            "6/6 [==============================] - 6s 992ms/step - loss: 0.0257 - accuracy: 1.0000 - val_loss: 1.3372 - val_accuracy: 0.7073\n",
            "Epoch 18/20\n",
            "6/6 [==============================] - 6s 1s/step - loss: 0.0245 - accuracy: 1.0000 - val_loss: 1.3934 - val_accuracy: 0.7561\n",
            "Epoch 19/20\n",
            "6/6 [==============================] - 6s 1s/step - loss: 0.0177 - accuracy: 1.0000 - val_loss: 1.4471 - val_accuracy: 0.7073\n",
            "Epoch 20/20\n",
            "6/6 [==============================] - 6s 1s/step - loss: 0.0122 - accuracy: 1.0000 - val_loss: 1.5136 - val_accuracy: 0.7317\n"
          ]
        },
        {
          "data": {
            "text/plain": [
              "<keras.callbacks.History at 0x26934d6f040>"
            ]
          },
          "execution_count": 7,
          "metadata": {},
          "output_type": "execute_result"
        }
      ],
      "source": [
        "from keras.callbacks import ModelCheckpoint\n",
        "checkpoint = ModelCheckpoint('model-{epoch:03d}.model',monitor = 'val_loss',save_best_only= True,mode='auto')\n",
        "model.fit(x_train,y_train,epochs = 20, callbacks=[checkpoint],validation_split = 0.2)"
      ]
    },
    {
      "cell_type": "code",
      "execution_count": null,
      "id": "35c12a19",
      "metadata": {
        "id": "35c12a19"
      },
      "outputs": [],
      "source": [
        "from keras.models import load_model\n",
        "model=load_model('model-014.model')"
      ]
    },
    {
      "cell_type": "code",
      "execution_count": null,
      "id": "85ae1529",
      "metadata": {
        "id": "85ae1529",
        "outputId": "ff30ef69-b415-4ef6-f7f6-413ac64a29b5"
      },
      "outputs": [
        {
          "name": "stdout",
          "output_type": "stream",
          "text": [
            "2/2 [==============================] - 1s 193ms/step - loss: 0.1472 - accuracy: 0.9608\n"
          ]
        },
        {
          "data": {
            "text/plain": [
              "[0.14723312854766846, 0.9607843160629272]"
            ]
          },
          "execution_count": 9,
          "metadata": {},
          "output_type": "execute_result"
        }
      ],
      "source": [
        "model.evaluate(x_test,y_test)"
      ]
    },
    {
      "cell_type": "code",
      "execution_count": null,
      "id": "a67d4d5f",
      "metadata": {
        "id": "a67d4d5f",
        "outputId": "6dc0e7fe-47c4-4b64-db5f-bf905aac25fa"
      },
      "outputs": [
        {
          "name": "stdout",
          "output_type": "stream",
          "text": [
            "2/2 [==============================] - 1s 195ms/step\n"
          ]
        }
      ],
      "source": [
        "y_pred=model.predict(x_test).argmax(axis=1)"
      ]
    },
    {
      "cell_type": "code",
      "execution_count": null,
      "id": "46f1cecf",
      "metadata": {
        "scrolled": true,
        "id": "46f1cecf"
      },
      "outputs": [],
      "source": [
        "y_test=y_test.argmax(axis=1)"
      ]
    },
    {
      "cell_type": "code",
      "execution_count": null,
      "id": "2c6c020e",
      "metadata": {
        "id": "2c6c020e",
        "outputId": "b81f353e-b577-4de4-85ee-479be46d40a5"
      },
      "outputs": [
        {
          "name": "stdout",
          "output_type": "stream",
          "text": [
            "Confusion Matrix \n",
            " [[17  2]\n",
            " [ 0 32]]\n"
          ]
        }
      ],
      "source": [
        "from sklearn.metrics import confusion_matrix\n",
        "cm= confusion_matrix(y_test,y_pred)\n",
        "print(\"Confusion Matrix \\n\",cm)"
      ]
    }
  ],
  "metadata": {
    "kernelspec": {
      "display_name": "Python 3 (ipykernel)",
      "language": "python",
      "name": "python3"
    },
    "language_info": {
      "codemirror_mode": {
        "name": "ipython",
        "version": 3
      },
      "file_extension": ".py",
      "mimetype": "text/x-python",
      "name": "python",
      "nbconvert_exporter": "python",
      "pygments_lexer": "ipython3",
      "version": "3.10.4"
    },
    "colab": {
      "provenance": [],
      "include_colab_link": true
    }
  },
  "nbformat": 4,
  "nbformat_minor": 5
}